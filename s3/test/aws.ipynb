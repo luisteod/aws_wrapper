{
 "cells": [
  {
   "cell_type": "code",
   "execution_count": null,
   "metadata": {},
   "outputs": [],
   "source": [
    "from importlib import reload\n",
    "import sys\n",
    "sys.path.append('..')\n",
    "from aws_client import AwsClient\n",
    "reload(sys.modules['aws_client'])\n",
    "import pandas as pd\n",
    "import io\n",
    "\n",
    "aws = AwsClient()"
   ]
  },
  {
   "cell_type": "code",
   "execution_count": 25,
   "metadata": {},
   "outputs": [],
   "source": [
    "data = aws.download_file('drivalake','food/silver/rappi/2024-04-12/products/part-00000.snappy.parquet')\n",
    "pq_bin = io.BytesIO(data)\n",
    "df = pd.read_parquet(pq_bin)"
   ]
  },
  {
   "cell_type": "code",
   "execution_count": 21,
   "metadata": {},
   "outputs": [
    {
     "name": "stdout",
     "output_type": "stream",
     "text": [
      "food/bronze/rappi/2024-04-12/restaurants/part-00000.snappy.parquet\n",
      "food/bronze/rappi/2024-04-12/stores/info/part-00000.snappy.parquet\n",
      "food/bronze/rappi/2024-04-12/stores/products/part-00000.snappy.parquet\n",
      "food/bronze/rappi/2024-04-12/stores/products/part-00001.snappy.parquet\n"
     ]
    }
   ],
   "source": [
    "res = aws.list_files('drivalake', \"food/bronze/rappi/2024-04-12\")\n",
    "for file in res:\n",
    "    print(file)"
   ]
  },
  {
   "cell_type": "code",
   "execution_count": 22,
   "metadata": {},
   "outputs": [
    {
     "name": "stdout",
     "output_type": "stream",
     "text": [
      "food/silver/rappi/2024-04-12/info/part-00000.snappy.parquet\n",
      "food/silver/rappi/2024-04-12/menu/part-00000.snappy.parquet\n",
      "food/silver/rappi/2024-04-12/products/part-00000.snappy.parquet\n",
      "food/silver/rappi/2024-04-12/products/part-00001.snappy.parquet\n"
     ]
    }
   ],
   "source": [
    "res = aws.list_files('drivalake', \"food/silver/rappi/2024-04-12\")\n",
    "for file in res:\n",
    "    print(file)"
   ]
  },
  {
   "cell_type": "code",
   "execution_count": null,
   "metadata": {},
   "outputs": [],
   "source": [
    "aws.delete_folder('drivalake', 'food/bronze/rappi/2024-04-12')"
   ]
  },
  {
   "cell_type": "code",
   "execution_count": null,
   "metadata": {},
   "outputs": [],
   "source": [
    "aws.change_file_name('drivalake','food/bronze/rappi/2024-04-08/stores/info/part-00000.parquet', 'food/bronze/rappi/2024-04-08/stores/info/part-00000.snappy.parquet')"
   ]
  },
  {
   "cell_type": "code",
   "execution_count": null,
   "metadata": {},
   "outputs": [],
   "source": [
    "aws.delete_folder('drivalake','food/bronze/rappi/2024-04-08/restaurants/')"
   ]
  }
 ],
 "metadata": {
  "kernelspec": {
   "display_name": "env",
   "language": "python",
   "name": "python3"
  },
  "language_info": {
   "codemirror_mode": {
    "name": "ipython",
    "version": 3
   },
   "file_extension": ".py",
   "mimetype": "text/x-python",
   "name": "python",
   "nbconvert_exporter": "python",
   "pygments_lexer": "ipython3",
   "version": "3.11.8"
  }
 },
 "nbformat": 4,
 "nbformat_minor": 2
}
