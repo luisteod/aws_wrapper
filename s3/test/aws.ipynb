{
 "cells": [
  {
   "cell_type": "code",
   "execution_count": null,
   "metadata": {},
   "outputs": [],
   "source": [
    "from importlib import reload\n",
    "import sys\n",
    "sys.path.append('..')\n",
    "from aws_client import AwsClient\n",
    "reload(sys.modules['aws_client'])\n",
    "import pandas as pd\n",
    "import io\n",
    "\n",
    "aws = AwsClient()"
   ]
  },
  {
   "cell_type": "code",
   "execution_count": null,
   "metadata": {},
   "outputs": [],
   "source": [
    "data = aws.download_file('drivalake','food/silver/ifood/2024-04-15/restaurant/part-00000.snappy.parquet')\n",
    "pq_bin = io.BytesIO(data)\n",
    "df = pd.read_parquet(pq_bin)"
   ]
  },
  {
   "cell_type": "code",
   "execution_count": null,
   "metadata": {},
   "outputs": [],
   "source": [
    "res = aws.list_files('drivalake', \"food/silver/ifood\")\n",
    "for file in res:\n",
    "    print(file)"
   ]
  },
  {
   "cell_type": "code",
   "execution_count": null,
   "metadata": {},
   "outputs": [],
   "source": [
    "res = aws.list_files('drivalake', \"food/silver/rappi/2024-04-12\")\n",
    "for file in res:\n",
    "    print(file)"
   ]
  },
  {
   "cell_type": "code",
   "execution_count": 15,
   "metadata": {},
   "outputs": [
    {
     "data": {
      "text/plain": [
       "{'ResponseMetadata': {'RequestId': 'tx8c26314cc0f4467e861fd-00661d6779',\n",
       "  'HostId': 'tx8c26314cc0f4467e861fd-00661d6779',\n",
       "  'HTTPStatusCode': 200,\n",
       "  'HTTPHeaders': {'content-type': 'text/html; charset=UTF-8',\n",
       "   'content-length': '211',\n",
       "   'x-amz-id-2': 'tx8c26314cc0f4467e861fd-00661d6779',\n",
       "   'x-amz-request-id': 'tx8c26314cc0f4467e861fd-00661d6779',\n",
       "   'x-trans-id': 'tx8c26314cc0f4467e861fd-00661d6779',\n",
       "   'x-openstack-request-id': 'tx8c26314cc0f4467e861fd-00661d6779',\n",
       "   'date': 'Mon, 15 Apr 2024 17:44:25 GMT'},\n",
       "  'RetryAttempts': 0},\n",
       " 'Deleted': [{'Key': 'food/silver/ifood/2024-04-15/restaurant/part-00000.snappy.parquet'}]}"
      ]
     },
     "execution_count": 15,
     "metadata": {},
     "output_type": "execute_result"
    }
   ],
   "source": [
    "aws.delete_folder('drivalake', 'food/silver/ifood')"
   ]
  },
  {
   "cell_type": "code",
   "execution_count": null,
   "metadata": {},
   "outputs": [],
   "source": [
    "aws.change_file_name('drivalake','food/bronze/rappi/2024-04-08/stores/info/part-00000.parquet', 'food/bronze/rappi/2024-04-08/stores/info/part-00000.snappy.parquet')"
   ]
  },
  {
   "cell_type": "code",
   "execution_count": null,
   "metadata": {},
   "outputs": [],
   "source": [
    "aws.delete_folder('drivalake','food/bronze/rappi/2024-04-08/restaurants/')"
   ]
  }
 ],
 "metadata": {
  "kernelspec": {
   "display_name": "env",
   "language": "python",
   "name": "python3"
  },
  "language_info": {
   "codemirror_mode": {
    "name": "ipython",
    "version": 3
   },
   "file_extension": ".py",
   "mimetype": "text/x-python",
   "name": "python",
   "nbconvert_exporter": "python",
   "pygments_lexer": "ipython3",
   "version": "3.11.8"
  }
 },
 "nbformat": 4,
 "nbformat_minor": 2
}
